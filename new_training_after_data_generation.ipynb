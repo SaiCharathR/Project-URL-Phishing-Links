{
 "cells": [
  {
   "cell_type": "markdown",
   "id": "af584bb8",
   "metadata": {},
   "source": [
    "# After data generation\n"
   ]
  },
  {
   "cell_type": "code",
   "execution_count": 12,
   "id": "b66f7ea0",
   "metadata": {},
   "outputs": [],
   "source": [
    "import pandas as pd\n",
    "\n",
    "# Load the dataset you just generated\n",
    "df = pd.read_csv('D:\\\\@project\\\\extracted_features.csv')  # Replace with the actual filename\n",
    "\n",
    "\n"
   ]
  },
  {
   "cell_type": "code",
   "execution_count": null,
   "id": "7cffaa31",
   "metadata": {},
   "outputs": [],
   "source": []
  },
  {
   "cell_type": "code",
   "execution_count": 13,
   "id": "b4d3f2df",
   "metadata": {},
   "outputs": [
    {
     "name": "stdout",
     "output_type": "stream",
     "text": [
      "Shape of the dataset: (11430, 38)\n"
     ]
    }
   ],
   "source": [
    "# Basic Info\n",
    "print(\"Shape of the dataset:\", df.shape)"
   ]
  },
  {
   "cell_type": "code",
   "execution_count": 14,
   "id": "38882300",
   "metadata": {},
   "outputs": [
    {
     "name": "stdout",
     "output_type": "stream",
     "text": [
      "   length_url  length_hostname  nb_dots  nb_hyphens  nb_at  nb_qm  nb_and  \\\n",
      "0          37               19        3           0      0      0       0   \n",
      "1          77               23        1           0      0      0       0   \n",
      "2         126               50        4           1      0      1       2   \n",
      "3          18               11        2           0      0      0       0   \n",
      "4          55               15        2           2      0      0       0   \n",
      "\n",
      "   nb_or  nb_eq  nb_underscore  ...  port  tld_in_path  tld_in_subdomain  \\\n",
      "0      0      0              0  ...     0            0                 0   \n",
      "1      0      0              0  ...     0            0                 0   \n",
      "2      0      3              2  ...     0            0                 0   \n",
      "3      0      0              0  ...     0            0                 0   \n",
      "4      0      0              0  ...     0            0                 0   \n",
      "\n",
      "   abnormal_subdomain  nb_subdomains  prefix_suffix  random_domain  \\\n",
      "0                   0              1              0              0   \n",
      "1                   0              0              0              0   \n",
      "2                   1              3              1              0   \n",
      "3                   0              1              0              0   \n",
      "4                   0              1              0              0   \n",
      "\n",
      "   shortening_service  path_extension      status  \n",
      "0                   0             php  legitimate  \n",
      "1                   0             NaN    phishing  \n",
      "2                   0             NaN    phishing  \n",
      "3                   0             NaN  legitimate  \n",
      "4                   0             NaN  legitimate  \n",
      "\n",
      "[5 rows x 38 columns]\n"
     ]
    }
   ],
   "source": [
    "print(df.head())"
   ]
  },
  {
   "cell_type": "code",
   "execution_count": 15,
   "id": "e6f0e58d",
   "metadata": {},
   "outputs": [
    {
     "name": "stdout",
     "output_type": "stream",
     "text": [
      "\n",
      "Missing values per column:\n",
      "length_url               0\n",
      "length_hostname          0\n",
      "nb_dots                  0\n",
      "nb_hyphens               0\n",
      "nb_at                    0\n",
      "nb_qm                    0\n",
      "nb_and                   0\n",
      "nb_or                    0\n",
      "nb_eq                    0\n",
      "nb_underscore            0\n",
      "nb_tilde                 0\n",
      "nb_percent               0\n",
      "nb_slash                 0\n",
      "nb_star                  0\n",
      "nb_colon                 0\n",
      "nb_comma                 0\n",
      "nb_semicolumn            0\n",
      "nb_dollar                0\n",
      "nb_space                 0\n",
      "nb_www                   0\n",
      "nb_com                   0\n",
      "nb_dslash                0\n",
      "http_in_path             0\n",
      "https_token              0\n",
      "has_ip                   0\n",
      "ratio_digits_url         0\n",
      "ratio_digits_host        0\n",
      "punycode                 0\n",
      "port                     0\n",
      "tld_in_path              0\n",
      "tld_in_subdomain         0\n",
      "abnormal_subdomain       0\n",
      "nb_subdomains            0\n",
      "prefix_suffix            0\n",
      "random_domain            0\n",
      "shortening_service       0\n",
      "path_extension        8212\n",
      "status                   0\n",
      "dtype: int64\n"
     ]
    }
   ],
   "source": [
    "# Check for missing values\n",
    "print(\"\\nMissing values per column:\")\n",
    "print(df.isnull().sum())"
   ]
  },
  {
   "cell_type": "code",
   "execution_count": 16,
   "id": "e1ca788d",
   "metadata": {},
   "outputs": [
    {
     "name": "stdout",
     "output_type": "stream",
     "text": [
      "Shape of dataset: (11430, 38)\n",
      "\n",
      "Missing values:\n",
      " length_url               0\n",
      "length_hostname          0\n",
      "nb_dots                  0\n",
      "nb_hyphens               0\n",
      "nb_at                    0\n",
      "nb_qm                    0\n",
      "nb_and                   0\n",
      "nb_or                    0\n",
      "nb_eq                    0\n",
      "nb_underscore            0\n",
      "nb_tilde                 0\n",
      "nb_percent               0\n",
      "nb_slash                 0\n",
      "nb_star                  0\n",
      "nb_colon                 0\n",
      "nb_comma                 0\n",
      "nb_semicolumn            0\n",
      "nb_dollar                0\n",
      "nb_space                 0\n",
      "nb_www                   0\n",
      "nb_com                   0\n",
      "nb_dslash                0\n",
      "http_in_path             0\n",
      "https_token              0\n",
      "has_ip                   0\n",
      "ratio_digits_url         0\n",
      "ratio_digits_host        0\n",
      "punycode                 0\n",
      "port                     0\n",
      "tld_in_path              0\n",
      "tld_in_subdomain         0\n",
      "abnormal_subdomain       0\n",
      "nb_subdomains            0\n",
      "prefix_suffix            0\n",
      "random_domain            0\n",
      "shortening_service       0\n",
      "path_extension        8212\n",
      "status                   0\n",
      "dtype: int64\n",
      "\n",
      "Class distribution:\n",
      " status\n",
      "legitimate    5715\n",
      "phishing      5715\n",
      "Name: count, dtype: int64\n"
     ]
    },
    {
     "data": {
      "image/png": "[encoded data removed]",
      "text/plain": [
       "<Figure size 600x400 with 1 Axes>"
      ]
     },
     "metadata": {},
     "output_type": "display_data"
    }
   ],
   "source": [
    "import pandas as pd\n",
    "import matplotlib.pyplot as plt\n",
    "import seaborn as sns\n",
    "\n",
    "\n",
    "\n",
    "# Basic overview\n",
    "print(\"Shape of dataset:\", df.shape)\n",
    "print(\"\\nMissing values:\\n\", df.isnull().sum())\n",
    "print(\"\\nClass distribution:\\n\", df['status'].value_counts())\n",
    "\n",
    "# Plot class balance\n",
    "plt.figure(figsize=(6,4))\n",
    "sns.countplot(x='status', data=df)\n",
    "plt.title(\"Distribution of Legitimate (0) vs Phishing (1)\")\n",
    "plt.xlabel(\"Status\")\n",
    "plt.ylabel(\"Count\")\n",
    "plt.xticks([0, 1], ['Legitimate', 'Phishing'])\n",
    "plt.tight_layout()\n",
    "plt.show()\n",
    "\n"
   ]
  },
  {
   "cell_type": "code",
   "execution_count": null,
   "id": "5a95efb8",
   "metadata": {},
   "outputs": [],
   "source": []
  },
  {
   "cell_type": "code",
   "execution_count": 17,
   "id": "6c0cf5f3",
   "metadata": {},
   "outputs": [
    {
     "name": "stdout",
     "output_type": "stream",
     "text": [
      "status\n",
      "legitimate    5715\n",
      "phishing      5715\n",
      "Name: count, dtype: int64\n",
      "['legitimate' 'phishing']\n"
     ]
    }
   ],
   "source": [
    "print(df['status'].value_counts())\n",
    "print(df['status'].unique())\n"
   ]
  },
  {
   "cell_type": "code",
   "execution_count": 20,
   "id": "ec4c4aa5",
   "metadata": {},
   "outputs": [],
   "source": [
    "from sklearn.preprocessing import LabelEncoder\n",
    "\n",
    "le = LabelEncoder()\n",
    "df['status'] = le.fit_transform(df['status'])  # 'legitimate' → 0, 'phishing' → 1\n"
   ]
  },
  {
   "cell_type": "code",
   "execution_count": 30,
   "id": "b379c6cc",
   "metadata": {},
   "outputs": [],
   "source": [
    "# import pandas as pd\n",
    "# from xgboost import XGBClassifier\n",
    "# from sklearn.model_selection import train_test_split\n",
    "# from sklearn.metrics import classification_report, accuracy_score\n",
    "\n",
    "# # Load the already extracted features\n",
    "# df = pd.read_csv(\"extracted_features.csv\")  # Contains features + 'status' column\n",
    "\n",
    "# # Split features and target\n",
    "# X = df.drop('status', axis=1)\n",
    "# y = df['status']\n",
    "\n",
    "# # Train-test split\n",
    "# X_train, X_test, y_train, y_test = train_test_split(X, y, test_size=0.2, random_state=42)\n",
    "\n",
    "# # Train XGBoost model\n",
    "# model = XGBClassifier(use_label_encoder=False, eval_metric='logloss', random_state=42)\n",
    "# model.fit(X_train, y_train)\n",
    "\n",
    "# # Predict and evaluate\n",
    "# y_pred = model.predict(X_test)\n",
    "# print(\"Accuracy:\", accuracy_score(y_test, y_pred))\n",
    "# print(classification_report(y_test, y_pred))\n"
   ]
  },
  {
   "cell_type": "code",
   "execution_count": 29,
   "id": "ff4d017d",
   "metadata": {},
   "outputs": [
    {
     "name": "stdout",
     "output_type": "stream",
     "text": [
      "Accuracy: 0.8858\n"
     ]
    },
    {
     "name": "stderr",
     "output_type": "stream",
     "text": [
      "c:\\Users\\KIIT\\anaconda3\\Lib\\site-packages\\xgboost\\training.py:183: UserWarning: [15:27:54] WARNING: C:\\actions-runner\\_work\\xgboost\\xgboost\\src\\learner.cc:738: \n",
      "Parameters: { \"use_label_encoder\" } are not used.\n",
      "\n",
      "  bst.update(dtrain, iteration=i, fobj=obj)\n"
     ]
    }
   ],
   "source": [
    "from sklearn.model_selection import train_test_split\n",
    "from sklearn.preprocessing import OrdinalEncoder\n",
    "from xgboost import XGBClassifier\n",
    "from sklearn.metrics import accuracy_score\n",
    "import pandas as pd\n",
    "\n",
    "# Split features and target\n",
    "X = df.drop('status', axis=1)\n",
    "y = df['status']\n",
    "\n",
    "# Train-test split\n",
    "X_train, X_test, y_train, y_test = train_test_split(X, y, test_size=0.2, random_state=42)\n",
    "\n",
    "# Encode all object columns safely\n",
    "obj_cols = X_train.select_dtypes(include='object').columns\n",
    "encoder = OrdinalEncoder(handle_unknown='use_encoded_value', unknown_value=-1)\n",
    "\n",
    "X_train[obj_cols] = encoder.fit_transform(X_train[obj_cols])\n",
    "X_test[obj_cols] = encoder.transform(X_test[obj_cols])\n",
    "\n",
    "# Train XGBoost model\n",
    "model = XGBClassifier(use_label_encoder=False, eval_metric='logloss', random_state=42)\n",
    "model.fit(X_train, y_train)\n",
    "\n",
    "# Predict and evaluate\n",
    "y_pred = model.predict(X_test)\n",
    "accuracy = accuracy_score(y_test, y_pred)\n",
    "print(f\"Accuracy: {accuracy:.4f}\")\n"
   ]
  },
  {
   "cell_type": "code",
   "execution_count": 31,
   "id": "830ea5ee",
   "metadata": {},
   "outputs": [
    {
     "data": {
      "text/plain": [
       "['phishing_classifier.pkl']"
      ]
     },
     "execution_count": 31,
     "metadata": {},
     "output_type": "execute_result"
    }
   ],
   "source": [
    "import joblib\n",
    "\n",
    "# Save model to file\n",
    "joblib.dump(model, 'phishing_classifier.pkl')\n"
   ]
  },
  {
   "cell_type": "code",
   "execution_count": 32,
   "id": "87b0af1f",
   "metadata": {},
   "outputs": [
    {
     "name": "stdout",
     "output_type": "stream",
     "text": [
      "              precision    recall  f1-score   support\n",
      "\n",
      "           0       0.87      0.90      0.89      1157\n",
      "           1       0.90      0.87      0.88      1129\n",
      "\n",
      "    accuracy                           0.89      2286\n",
      "   macro avg       0.89      0.89      0.89      2286\n",
      "weighted avg       0.89      0.89      0.89      2286\n",
      "\n"
     ]
    }
   ],
   "source": [
    "from sklearn.metrics import classification_report\n",
    "print(classification_report(y_test, model.predict(X_test)))\n"
   ]
  },
  {
   "cell_type": "code",
   "execution_count": null,
   "id": "56517374",
   "metadata": {},
   "outputs": [],
   "source": []
  },
  {
   "cell_type": "code",
   "execution_count": null,
   "id": "ee9e01e7",
   "metadata": {},
   "outputs": [],
   "source": []
  },
  {
   "cell_type": "code",
   "execution_count": null,
   "id": "70bda366",
   "metadata": {},
   "outputs": [],
   "source": []
  },
  {
   "cell_type": "code",
   "execution_count": null,
   "id": "bd324fed",
   "metadata": {},
   "outputs": [],
   "source": [
    "# from sklearn.model_selection import train_test_split\n",
    "# from xgboost import XGBClassifier\n",
    "# from sklearn.metrics import accuracy_score\n",
    "\n",
    "# # Features and labels\n",
    "# X = df.drop(columns=['status'])\n",
    "# y = df['status']\n",
    "\n",
    "# # Split\n",
    "# X_train, X_test, y_train, y_test = train_test_split(X, y, test_size=0.2, random_state=42)\n",
    "\n",
    "# # Train model\n",
    "# xgb_model = XGBClassifier(use_label_encoder=False, eval_metric='logloss', base_score=0.5)\n",
    "# xgb_model.fit(X_train, y_train)\n",
    "\n",
    "# # Predict and evaluate\n",
    "# y_pred = xgb_model.predict(X_test)\n",
    "# print(\"✅ Accuracy:\", accuracy_score(y_test, y_pred))\n"
   ]
  },
  {
   "cell_type": "code",
   "execution_count": null,
   "id": "bbd19f45",
   "metadata": {},
   "outputs": [],
   "source": []
  },
  {
   "cell_type": "code",
   "execution_count": null,
   "id": "3067b30e",
   "metadata": {},
   "outputs": [],
   "source": []
  }
 ],
 "metadata": {
  "kernelspec": {
   "display_name": "base",
   "language": "python",
   "name": "python3"
  },
  "language_info": {
   "codemirror_mode": {
    "name": "ipython",
    "version": 3
   },
   "file_extension": ".py",
   "mimetype": "text/x-python",
   "name": "python",
   "nbconvert_exporter": "python",
   "pygments_lexer": "ipython3",
   "version": "3.12.4"
  }
 },
 "nbformat": 4,
 "nbformat_minor": 5
}
